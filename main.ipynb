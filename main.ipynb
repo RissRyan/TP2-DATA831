{
 "cells": [
  {
   "attachments": {},
   "cell_type": "markdown",
   "metadata": {},
   "source": [
    "# TP2 DATA831\n",
    "\n",
    "Par RISS Ryan\n",
    "IDU4"
   ]
  },
  {
   "attachments": {},
   "cell_type": "markdown",
   "metadata": {},
   "source": [
    "## Partie I : Installation\n",
    "\n",
    "Pyspark + pandas"
   ]
  },
  {
   "cell_type": "code",
   "execution_count": null,
   "metadata": {},
   "outputs": [],
   "source": [
    "pip install pyspark"
   ]
  },
  {
   "cell_type": "code",
   "execution_count": null,
   "metadata": {},
   "outputs": [],
   "source": [
    "pip install pandas"
   ]
  },
  {
   "attachments": {},
   "cell_type": "markdown",
   "metadata": {},
   "source": [
    "## Partie II : Utilisation de PySpark"
   ]
  },
  {
   "attachments": {},
   "cell_type": "markdown",
   "metadata": {},
   "source": [
    "### Utilisation de fichiers .txt\n",
    "\n",
    "On crée d'abord une configuration Spark et un contexte Spark."
   ]
  },
  {
   "cell_type": "code",
   "execution_count": null,
   "metadata": {},
   "outputs": [],
   "source": [
    "from pyspark import SparkContext, SparkConf"
   ]
  },
  {
   "cell_type": "code",
   "execution_count": null,
   "metadata": {},
   "outputs": [],
   "source": [
    "conf = SparkConf()\n",
    "# create Spark context with Spark configuration\n",
    "sc = SparkContext.getOrCreate(conf=conf)"
   ]
  },
  {
   "attachments": {},
   "cell_type": "markdown",
   "metadata": {},
   "source": [
    "Puis on teste Spark avec un map reduce sur le fichier test.txt.\n",
    "\n",
    "test.txt ayant pour contenu : *Je JE A; A ;*\n",
    "\n",
    "On veut ici tester si spark détecte d'abord les différents mots et si il est sensible aux minuscules/majuscules et aux ponctuations."
   ]
  },
  {
   "cell_type": "code",
   "execution_count": null,
   "metadata": {},
   "outputs": [],
   "source": [
    "\n",
    " # read in text file and split each document into words\n",
    "words = sc.textFile(\"data/test.txt\").flatMap(lambda line: line.split(\" \"))\n",
    " # count the occurrence of each word\n",
    "wordCounts = words.map(lambda word: (word, 1)).reduceByKey(lambda a,b:a +b)\n",
    "\n",
    "print(wordCounts.collect())"
   ]
  },
  {
   "attachments": {},
   "cell_type": "markdown",
   "metadata": {},
   "source": [
    "Le map reduce de Spark considère un mot comme une suite de caractères attachées et est sensibles aux différence entre min/majuscules."
   ]
  },
  {
   "attachments": {},
   "cell_type": "markdown",
   "metadata": {},
   "source": [
    "### Utilisation de CSVs"
   ]
  },
  {
   "cell_type": "code",
   "execution_count": null,
   "metadata": {},
   "outputs": [],
   "source": [
    "from pyspark.sql import SparkSession\n",
    "\n",
    "spSession = SparkSession.builder.appName(\"Ok\").getOrCreate()"
   ]
  },
  {
   "attachments": {},
   "cell_type": "markdown",
   "metadata": {},
   "source": [
    "On charge le csv, on afficher son schéma et puis on affiche les 10 premières entrées."
   ]
  },
  {
   "cell_type": "code",
   "execution_count": 54,
   "metadata": {},
   "outputs": [
    {
     "name": "stdout",
     "output_type": "stream",
     "text": [
      "root\n",
      " |-- _c0: integer (nullable = true)\n",
      " |-- assists_away_team: integer (nullable = true)\n",
      " |-- assists_home_team: integer (nullable = true)\n",
      " |-- attendance: integer (nullable = true)\n",
      " |-- away_goals: integer (nullable = true)\n",
      " |-- away_goals_details: string (nullable = true)\n",
      " |-- away_manager: string (nullable = true)\n",
      " |-- away_team: string (nullable = true)\n",
      " |-- blocks_away_team: integer (nullable = true)\n",
      " |-- blocks_home_team: integer (nullable = true)\n",
      " |-- clearances_away_team: integer (nullable = true)\n",
      " |-- clearances_home_team: integer (nullable = true)\n",
      " |-- corners_away_team: integer (nullable = true)\n",
      " |-- corners_home_team: integer (nullable = true)\n",
      " |-- crosses_away_team: integer (nullable = true)\n",
      " |-- crosses_home_team: integer (nullable = true)\n",
      " |-- date: string (nullable = true)\n",
      " |-- fouls_away_team: integer (nullable = true)\n",
      " |-- fouls_home_team: integer (nullable = true)\n",
      " |-- free_kicks_away_team: integer (nullable = true)\n",
      " |-- free_kicks_home_team: integer (nullable = true)\n",
      " |-- handballs_away_team: integer (nullable = true)\n",
      " |-- handballs_home_team: integer (nullable = true)\n",
      " |-- home_goals: integer (nullable = true)\n",
      " |-- home_goals_details: string (nullable = true)\n",
      " |-- home_manager: string (nullable = true)\n",
      " |-- home_team: string (nullable = true)\n",
      " |-- offsides_away_team: integer (nullable = true)\n",
      " |-- offsides_home_team: integer (nullable = true)\n",
      " |-- penalties_away_team: integer (nullable = true)\n",
      " |-- penalties_home_team: integer (nullable = true)\n",
      " |-- red_cards_away_team: integer (nullable = true)\n",
      " |-- red_cards_home_team: integer (nullable = true)\n",
      " |-- referee: string (nullable = true)\n",
      " |-- result: string (nullable = true)\n",
      " |-- saves_away_team: integer (nullable = true)\n",
      " |-- saves_home_team: integer (nullable = true)\n",
      " |-- season: string (nullable = true)\n",
      " |-- shots_off_target_away_team: integer (nullable = true)\n",
      " |-- shots_off_target_home_team: integer (nullable = true)\n",
      " |-- shots_on_target_away_team: integer (nullable = true)\n",
      " |-- shots_on_target_home_team: integer (nullable = true)\n",
      " |-- throw_ins_away_team: integer (nullable = true)\n",
      " |-- throw_ins_home_team: integer (nullable = true)\n",
      " |-- total_shots_away_team: integer (nullable = true)\n",
      " |-- total_shots_home_team: integer (nullable = true)\n",
      " |-- venue: string (nullable = true)\n",
      " |-- yellow_cards_away_team: integer (nullable = true)\n",
      " |-- yellow_cards_home_team: integer (nullable = true)\n",
      "\n"
     ]
    },
    {
     "name": "stderr",
     "output_type": "stream",
     "text": [
      "23/05/04 19:14:30 WARN package: Truncated the string representation of a plan since it was too large. This behavior can be adjusted by setting 'spark.sql.debug.maxToStringFields'.\n",
      "23/05/04 19:14:30 WARN CSVHeaderChecker: CSV header does not conform to the schema.\n",
      " Header: , assists_away_team, assists_home_team, attendance, away_goals, away_goals_details, away_manager, away_team, blocks_away_team, blocks_home_team, clearances_away_team, clearances_home_team, corners_away_team, corners_home_team, crosses_away_team, crosses_home_team, date, fouls_away_team, fouls_home_team, free_kicks_away_team, free_kicks_home_team, handballs_away_team, handballs_home_team, home_goals, home_goals_details, home_manager, home_team, offsides_away_team, offsides_home_team, penalties_away_team, penalties_home_team, red_cards_away_team, red_cards_home_team, referee, result, saves_away_team, saves_home_team, season, shots_off_target_away_team, shots_off_target_home_team, shots_on_target_away_team, shots_on_target_home_team, throw_ins_away_team, throw_ins_home_team, total_shots_away_team, total_shots_home_team, venue, yellow_cards_away_team, yellow_cards_home_team\n",
      " Schema: _c0, assists_away_team, assists_home_team, attendance, away_goals, away_goals_details, away_manager, away_team, blocks_away_team, blocks_home_team, clearances_away_team, clearances_home_team, corners_away_team, corners_home_team, crosses_away_team, crosses_home_team, date, fouls_away_team, fouls_home_team, free_kicks_away_team, free_kicks_home_team, handballs_away_team, handballs_home_team, home_goals, home_goals_details, home_manager, home_team, offsides_away_team, offsides_home_team, penalties_away_team, penalties_home_team, red_cards_away_team, red_cards_home_team, referee, result, saves_away_team, saves_home_team, season, shots_off_target_away_team, shots_off_target_home_team, shots_on_target_away_team, shots_on_target_home_team, throw_ins_away_team, throw_ins_home_team, total_shots_away_team, total_shots_home_team, venue, yellow_cards_away_team, yellow_cards_home_team\n",
      "Expected: _c0 but found: \n",
      "CSV file: file:///home/ryan/GitHub/TP2-DATA831/data/epl1.csv\n"
     ]
    },
    {
     "name": "stdout",
     "output_type": "stream",
     "text": [
      "+---+-----------------+-----------------+----------+----------+--------------------+-------------------+--------------+----------------+----------------+--------------------+--------------------+-----------------+-----------------+-----------------+-----------------+-------------------+---------------+---------------+--------------------+--------------------+-------------------+-------------------+----------+--------------------+--------------------+-----------+------------------+------------------+-------------------+-------------------+-------------------+-------------------+----------------+------+---------------+---------------+---------+--------------------------+--------------------------+-------------------------+-------------------------+-------------------+-------------------+---------------------+---------------------+------------------+----------------------+----------------------+\n",
      "|_c0|assists_away_team|assists_home_team|attendance|away_goals|  away_goals_details|       away_manager|     away_team|blocks_away_team|blocks_home_team|clearances_away_team|clearances_home_team|corners_away_team|corners_home_team|crosses_away_team|crosses_home_team|               date|fouls_away_team|fouls_home_team|free_kicks_away_team|free_kicks_home_team|handballs_away_team|handballs_home_team|home_goals|  home_goals_details|        home_manager|  home_team|offsides_away_team|offsides_home_team|penalties_away_team|penalties_home_team|red_cards_away_team|red_cards_home_team|         referee|result|saves_away_team|saves_home_team|   season|shots_off_target_away_team|shots_off_target_home_team|shots_on_target_away_team|shots_on_target_home_team|throw_ins_away_team|throw_ins_home_team|total_shots_away_team|total_shots_home_team|             venue|yellow_cards_away_team|yellow_cards_home_team|\n",
      "+---+-----------------+-----------------+----------+----------+--------------------+-------------------+--------------+----------------+----------------+--------------------+--------------------+-----------------+-----------------+-----------------+-----------------+-------------------+---------------+---------------+--------------------+--------------------+-------------------+-------------------+----------+--------------------+--------------------+-----------+------------------+------------------+-------------------+-------------------+-------------------+-------------------+----------------+------+---------------+---------------+---------+--------------------------+--------------------------+-------------------------+-------------------------+-------------------+-------------------+---------------------+---------------------+------------------+----------------------+----------------------+\n",
      "|  0|                0|                3|     74363|         1|Chris Smalling (9...|         Eddie Howe|   Bournemouth|               4|               4|                  10|                  11|                1|                7|                4|                7|Tuesday 17 May 2016|              8|              9|                  13|                  10|                  1|                  0|         3|Wayne Rooney (43)...|      Louis van Gaal|    Man Utd|                 2|                 4|                  0|                  0|                  0|                  0|   Jonathan Moss|   3-1|              2|              0|2015-2016|                         3|                         3|                        0|                        6|                 24|                 21|                    3|                    9|      Old Trafford|                     0|                     1|\n",
      "|  1|                0|                3|     60007|         0|                null|         Eric Black|   Aston Villa|               2|               3|                  26|                  12|                4|                5|                8|               18| Sunday 15 May 2016|              6|             12|                  12|                   5|                  1|                  0|         4|Olivier Giroud (5...|       Arsène Wenger|    Arsenal|                 0|                 0|                  0|                  0|                  0|                  0|Mark Clattenburg|   4-0|              4|              2|2015-2016|                         0|                         7|                        3|                        7|                 15|                 11|                    3|                   14|  Emirates Stadium|                     1|                     0|\n",
      "|  2|                1|                0|     41494|         1|Daniel Drinkwater...|    Claudio Ranieri|     Leicester|               8|               7|                  16|                  26|                6|                7|               13|               11| Sunday 15 May 2016|             12|              5|                  13|                  10|                  1|                  0|         1|Cesc Fàbregas (66...|        Guus Hiddink|    Chelsea|                 0|                 8|                  0|                  1|                  0|                  0|    Craig Pawson|   1-1|              3|              4|2015-2016|                         6|                         4|                        5|                        4|                 26|                 19|                   11|                    8|   Stamford Bridge|                     0|                     0|\n",
      "|  3|                0|                0|     36691|         0|                null|          Alex Neil|       Norwich|               3|               2|                  28|                  29|               11|                4|               25|               17| Sunday 15 May 2016|             11|              7|                   8|                   9|                  0|                  1|         3|James McCarthy (1...|      David Unsworth|    Everton|                 1|                 1|                  0|                  1|                  0|                  0|       Lee Mason|   3-0|              5|              3|2015-2016|                         7|                         4|                        2|                        8|                 27|                 21|                    9|                   12|     Goodison Park|                     0|                     0|\n",
      "|  4|                1|                4|     52183|         1|    Erik Lamela (60)|Mauricio Pochettino|         Spurs|               6|               6|                  11|                  35|                8|                3|               21|               11| Sunday 15 May 2016|              6|              7|                   7|                   6|                  0|                  0|         5|Georginio Wijnald...|      Rafael Benítez|  Newcastle|                 1|                 1|                  0|                  1|                  0|                  1|  Anthony Taylor|   5-1|              5|              4|2015-2016|                         7|                         3|                        5|                       10|                 26|                 11|                   12|                   13|   St. James' Park|                     2|                     1|\n",
      "|  5|                0|                2|     31313|         1| Jason Puncheon (64)|        Alan Pardew|Crystal Palace|               2|               8|                  19|                  40|                5|                2|               16|               23| Sunday 15 May 2016|             14|              7|                   9|                  11|                  1|                  0|         4|Sadio Mané (43),G...|       Ronald Koeman|Southampton|                 1|                 2|                  0|                  1|                  0|                  0|  Michael Oliver|   4-1|              1|              3|2015-2016|                         4|                        12|                        4|                        5|                 28|                 26|                    8|                   17|St. Mary's Stadium|                     2|                     1|\n",
      "|  6|                1|                1|     27721|         1|Michail Antonio (23)|       Slaven Bilic|      West Ham|               1|               7|                  19|                  27|               10|                4|               13|               13| Sunday 15 May 2016|             12|              8|                  14|                  14|                  1|                  0|         2|Giannelli Imbula ...|         Mark Hughes|      Stoke|                 2|                 6|                  0|                  0|                  0|                  0|      Mike Jones|   2-1|              2|              5|2015-2016|                         6|                         2|                        7|                        4|                 25|                 13|                   13|                    6| Britannia Stadium|                     1|                     3|\n",
      "|  7|                0|                0|     20934|         1|Kelechi Iheanacho...|  Manuel Pellegrini|      Man City|               1|               3|                  16|                  27|                4|                4|               12|               12| Sunday 15 May 2016|             19|              4|                   6|                  20|                  0|                  0|         1|   André Ayew (45+1)|  Francesco Guidolin|    Swansea|                 2|                 2|                  0|                  0|                  0|                  0|       Mike Dean|   1-1|              0|              4|2015-2016|                         9|                         2|                        5|                        1|                 24|                 20|                   14|                    3|   Liberty Stadium|                     3|                     1|\n",
      "|  8|                2|                1|     21012|         2|Jack Rodwell (39)...|      Sam Allardyce|    Sunderland|               4|               1|                  39|                  26|                4|                7|               13|               21| Sunday 15 May 2016|              9|             11|                  11|                  12|                  2|                  0|         2|Sebastian Prödl (...|Enrique Sánchez F...|    Watford|                 4|                 1|                  0|                  1|                  0|                  0|    Kevin Friend|   2-2|              4|              2|2015-2016|                         1|                        11|                        4|                        6|                 29|                 22|                    5|                   17|     Vicarage Road|                     0|                     1|\n",
      "|  9|                1|                1|     26196|         1|     Jordon Ibe (23)|       Jürgen Klopp|     Liverpool|               4|               0|                  23|                  25|                5|                7|               12|               11| Sunday 15 May 2016|             14|             11|                  11|                  14|                  0|                  0|         1| Salomón Rondón (13)|          Tony Pulis|  West Brom|                 0|                 1|                  0|                  0|                  0|                  0|   Robert Madley|   1-1|              0|              2|2015-2016|                         3|                         7|                        3|                        1|                 28|                 23|                    6|                    8|     The Hawthorns|                     1|                     3|\n",
      "+---+-----------------+-----------------+----------+----------+--------------------+-------------------+--------------+----------------+----------------+--------------------+--------------------+-----------------+-----------------+-----------------+-----------------+-------------------+---------------+---------------+--------------------+--------------------+-------------------+-------------------+----------+--------------------+--------------------+-----------+------------------+------------------+-------------------+-------------------+-------------------+-------------------+----------------+------+---------------+---------------+---------+--------------------------+--------------------------+-------------------------+-------------------------+-------------------+-------------------+---------------------+---------------------+------------------+----------------------+----------------------+\n",
      "only showing top 10 rows\n",
      "\n"
     ]
    }
   ],
   "source": [
    "df = spSession.read.csv(\"data/epl1.csv\", header=True, inferSchema=True, sep = ';')\n",
    "\n",
    "df.printSchema()\n",
    "\n",
    "df.show(10)"
   ]
  },
  {
   "attachments": {},
   "cell_type": "markdown",
   "metadata": {},
   "source": [
    "## Partie III : Utilisation de pandas\n",
    "\n",
    "On importe d'abord pandas et reduce()"
   ]
  },
  {
   "cell_type": "code",
   "execution_count": 72,
   "metadata": {},
   "outputs": [],
   "source": [
    "import pandas as pd\n",
    "from functools import reduce"
   ]
  },
  {
   "attachments": {},
   "cell_type": "markdown",
   "metadata": {},
   "source": [
    "On lis le csv"
   ]
  },
  {
   "cell_type": "code",
   "execution_count": 68,
   "metadata": {},
   "outputs": [
    {
     "name": "stdout",
     "output_type": "stream",
     "text": [
      "     Unnamed: 0  assists_away_team  assists_home_team  attendance  away_goals   \n",
      "0             0                  0                  3       74363           1  \\\n",
      "1             1                  0                  3       60007           0   \n",
      "2             2                  1                  0       41494           1   \n",
      "3             3                  0                  0       36691           0   \n",
      "4             4                  1                  4       52183           1   \n",
      "..          ...                ...                ...         ...         ...   \n",
      "375         375                  1                  0       11155           1   \n",
      "376         376                  1                  2       39063           2   \n",
      "377         377                  2                  2       32242           2   \n",
      "378         378                  3                  1       27036           3   \n",
      "379         379                  0                  0       75261           0   \n",
      "\n",
      "                                    away_goals_details   \n",
      "0                             Chris Smalling (90+3 OG)  \\\n",
      "1                                                  NaN   \n",
      "2                               Daniel Drinkwater (82)   \n",
      "3                                                  NaN   \n",
      "4                                     Erik Lamela (60)   \n",
      "..                                                 ...   \n",
      "375                                  Rudy Gestede (72)   \n",
      "376                Miguel Layún (13),Odion Ighalo (83)   \n",
      "377            Jermain Defoe (60),Steven Fletcher (71)   \n",
      "378  Wilfried Zaha (39),Damien Delaney (49),Yohan C...   \n",
      "379                                                NaN   \n",
      "\n",
      "               away_manager       away_team  blocks_away_team   \n",
      "0                Eddie Howe     Bournemouth                 4  \\\n",
      "1                Eric Black     Aston Villa                 2   \n",
      "2           Claudio Ranieri       Leicester                 8   \n",
      "3                 Alex Neil         Norwich                 3   \n",
      "4       Mauricio Pochettino           Spurs                 6   \n",
      "..                      ...             ...               ...   \n",
      "375            Tim Sherwood     Aston Villa                 2   \n",
      "376  Enrique Sánchez Flores         Watford                 2   \n",
      "377           Dick Advocaat      Sunderland                 4   \n",
      "378             Alan Pardew  Crystal Palace                 2   \n",
      "379     Mauricio Pochettino           Spurs                 4   \n",
      "\n",
      "     blocks_home_team  ...  shots_off_target_home_team   \n",
      "0                   4  ...                           3  \\\n",
      "1                   3  ...                           7   \n",
      "2                   7  ...                           4   \n",
      "3                   2  ...                           4   \n",
      "4                   6  ...                           3   \n",
      "..                ...  ...                         ...   \n",
      "375                 2  ...                           7   \n",
      "376                 3  ...                           3   \n",
      "377                 2  ...                           7   \n",
      "378                 2  ...                           9   \n",
      "379                 3  ...                           4   \n",
      "\n",
      "     shots_on_target_away_team  shots_on_target_home_team   \n",
      "0                            0                          6  \\\n",
      "1                            3                          7   \n",
      "2                            5                          4   \n",
      "3                            2                          8   \n",
      "4                            5                         10   \n",
      "..                         ...                        ...   \n",
      "375                          3                          2   \n",
      "376                          5                          5   \n",
      "377                          5                          8   \n",
      "378                          7                          6   \n",
      "379                          5                          1   \n",
      "\n",
      "     throw_ins_away_team  throw_ins_home_team  total_shots_away_team   \n",
      "0                     24                   21                      3  \\\n",
      "1                     15                   11                      3   \n",
      "2                     26                   19                     11   \n",
      "3                     27                   21                      9   \n",
      "4                     26                   11                     12   \n",
      "..                   ...                  ...                    ...   \n",
      "375                   19                   30                      5   \n",
      "376                   14                   30                      8   \n",
      "377                   25                   21                      9   \n",
      "378                   19                   23                      9   \n",
      "379                   24                   25                      7   \n",
      "\n",
      "    total_shots_home_team               venue  yellow_cards_away_team   \n",
      "0                       9        Old Trafford                       0  \\\n",
      "1                      14    Emirates Stadium                       1   \n",
      "2                       8     Stamford Bridge                       0   \n",
      "3                      12       Goodison Park                       0   \n",
      "4                      13     St. James' Park                       2   \n",
      "..                    ...                 ...                     ...   \n",
      "375                     9    Vitality Stadium                       4   \n",
      "376                     8       Goodison Park                       2   \n",
      "377                    15  King Power Stadium                       4   \n",
      "378                    15         Carrow Road                       0   \n",
      "379                     5        Old Trafford                       3   \n",
      "\n",
      "     yellow_cards_home_team  \n",
      "0                         1  \n",
      "1                         0  \n",
      "2                         0  \n",
      "3                         0  \n",
      "4                         1  \n",
      "..                      ...  \n",
      "375                       3  \n",
      "376                       1  \n",
      "377                       2  \n",
      "378                       1  \n",
      "379                       2  \n",
      "\n",
      "[380 rows x 49 columns]\n"
     ]
    }
   ],
   "source": [
    "df = pd.read_csv(\"data/epl1.csv\", sep=\";\")\n",
    "\n",
    "print(df)"
   ]
  },
  {
   "attachments": {},
   "cell_type": "markdown",
   "metadata": {},
   "source": [
    "### Nombre moyen de spectateurs par match"
   ]
  },
  {
   "attachments": {},
   "cell_type": "markdown",
   "metadata": {},
   "source": [
    "**Méthode normal**"
   ]
  },
  {
   "cell_type": "code",
   "execution_count": 62,
   "metadata": {},
   "outputs": [
    {
     "data": {
      "text/plain": [
       "36451.836842105266"
      ]
     },
     "execution_count": 62,
     "metadata": {},
     "output_type": "execute_result"
    }
   ],
   "source": [
    "df['attendance'].mean()"
   ]
  },
  {
   "attachments": {},
   "cell_type": "markdown",
   "metadata": {},
   "source": [
    "**Map reduce**"
   ]
  },
  {
   "cell_type": "code",
   "execution_count": 74,
   "metadata": {},
   "outputs": [
    {
     "name": "stdout",
     "output_type": "stream",
     "text": [
      "36451.836842105266\n"
     ]
    }
   ],
   "source": [
    "def mapper(x):\n",
    "    return x\n",
    "\n",
    "def reducer(acc, x):\n",
    "    return acc + x\n",
    "\n",
    "total = reduce(reducer, map(mapper, df['attendance']))\n",
    "\n",
    "print(total/len(df))"
   ]
  },
  {
   "attachments": {},
   "cell_type": "markdown",
   "metadata": {},
   "source": [
    "On a le même résultat !"
   ]
  },
  {
   "attachments": {},
   "cell_type": "markdown",
   "metadata": {},
   "source": [
    "### Nombre moyen de buts par match"
   ]
  },
  {
   "attachments": {},
   "cell_type": "markdown",
   "metadata": {},
   "source": [
    "**Méthode classique**"
   ]
  },
  {
   "cell_type": "code",
   "execution_count": 77,
   "metadata": {},
   "outputs": [
    {
     "name": "stdout",
     "output_type": "stream",
     "text": [
      "Resultat : 1.35\n"
     ]
    }
   ],
   "source": [
    "sum = df['away_goals'].mean() + df['home_goals'].mean()\n",
    "\n",
    "print(\"Resultat : \" + str(sum/2))"
   ]
  },
  {
   "attachments": {},
   "cell_type": "markdown",
   "metadata": {},
   "source": [
    "**Map reduce**"
   ]
  },
  {
   "cell_type": "code",
   "execution_count": 79,
   "metadata": {},
   "outputs": [
    {
     "name": "stdout",
     "output_type": "stream",
     "text": [
      "Resultat : 1.35\n"
     ]
    }
   ],
   "source": [
    "sum = reduce(reducer, map(mapper, df['away_goals']))/len(df) + reduce(reducer, map(mapper, df['home_goals']))/len(df)\n",
    "\n",
    "print(\"Resultat : \" + str(sum/2))"
   ]
  },
  {
   "attachments": {},
   "cell_type": "markdown",
   "metadata": {},
   "source": [
    "### Nombre de buts pour chaque équipe"
   ]
  },
  {
   "attachments": {},
   "cell_type": "markdown",
   "metadata": {},
   "source": [
    "**Méthode classique**"
   ]
  },
  {
   "cell_type": "code",
   "execution_count": 67,
   "metadata": {},
   "outputs": [
    {
     "name": "stdout",
     "output_type": "stream",
     "text": [
      "away_team\n",
      "Arsenal           65\n",
      "Aston Villa       27\n",
      "Bournemouth       45\n",
      "Chelsea           59\n",
      "Crystal Palace    39\n",
      "Everton           59\n",
      "Leicester         68\n",
      "Liverpool         63\n",
      "Man City          71\n",
      "Man Utd           49\n",
      "Newcastle         44\n",
      "Norwich           39\n",
      "Southampton       59\n",
      "Spurs             69\n",
      "Stoke             41\n",
      "Sunderland        48\n",
      "Swansea           42\n",
      "Watford           40\n",
      "West Brom         34\n",
      "West Ham          65\n",
      "dtype: int64\n"
     ]
    }
   ],
   "source": [
    "print(df.groupby('away_team')['away_goals'].sum() + df.groupby('home_team')['home_goals'].sum())"
   ]
  },
  {
   "attachments": {},
   "cell_type": "markdown",
   "metadata": {},
   "source": [
    "**Map reduce**"
   ]
  },
  {
   "cell_type": "code",
   "execution_count": 108,
   "metadata": {},
   "outputs": [
    {
     "name": "stdout",
     "output_type": "stream",
     "text": [
      "                 0   1  total\n",
      "Bournemouth     22  23     45\n",
      "Aston Villa     13  14     27\n",
      "Leicester       33  35     68\n",
      "Norwich         13  26     39\n",
      "Spurs           34  35     69\n",
      "Crystal Palace  20  19     39\n",
      "West Ham        31  34     65\n",
      "Man City        24  47     71\n",
      "Sunderland      25  23     48\n",
      "Liverpool       30  33     63\n",
      "Chelsea         27  32     59\n",
      "Watford         20  20     40\n",
      "Everton         24  35     59\n",
      "Man Utd         22  27     49\n",
      "Arsenal         34  31     65\n",
      "Southampton     20  39     59\n",
      "Newcastle       12  32     44\n",
      "West Brom       14  20     34\n",
      "Stoke           19  22     41\n",
      "Swansea         22  20     42\n"
     ]
    }
   ],
   "source": [
    "import collections\n",
    "\n",
    "def mapperAway(row):\n",
    "    return (row['away_team'], row['away_goals'])\n",
    "\n",
    "def mapperHome(row):\n",
    "    return (row['home_team'], row['home_goals'])\n",
    "\n",
    "\n",
    "def reducer2(acc, x):\n",
    "    team, goals = x\n",
    "    acc[team] = acc.get(team, 0) + goals\n",
    "    return acc\n",
    "\n",
    "mp1 = reduce(reducer2, map(mapperAway, df.to_dict('records')), {})\n",
    "mp2 = reduce(reducer2, map(mapperHome, df.to_dict('records')), {})\n",
    "\n",
    "concatSeries = pd.concat([pd.Series(mp1), pd.Series(mp2)], axis=1)\n",
    "\n",
    "concatSeries['total'] = concatSeries[0]+concatSeries[1]\n",
    "\n",
    "print(concatSeries)"
   ]
  }
 ],
 "metadata": {
  "kernelspec": {
   "display_name": "Python 3",
   "language": "python",
   "name": "python3"
  },
  "language_info": {
   "codemirror_mode": {
    "name": "ipython",
    "version": 3
   },
   "file_extension": ".py",
   "mimetype": "text/x-python",
   "name": "python",
   "nbconvert_exporter": "python",
   "pygments_lexer": "ipython3",
   "version": "3.10.10"
  },
  "orig_nbformat": 4
 },
 "nbformat": 4,
 "nbformat_minor": 2
}
