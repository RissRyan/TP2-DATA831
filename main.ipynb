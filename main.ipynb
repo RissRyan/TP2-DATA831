{
 "cells": [
  {
   "attachments": {},
   "cell_type": "markdown",
   "metadata": {},
   "source": [
    "# TP2 DATA831\n",
    "\n",
    "Par RISS Ryan\n",
    "IDU4"
   ]
  },
  {
   "attachments": {},
   "cell_type": "markdown",
   "metadata": {},
   "source": [
    "## Partie I : Installation\n",
    "\n",
    "Pyspark + pandas"
   ]
  },
  {
   "cell_type": "code",
   "execution_count": null,
   "metadata": {},
   "outputs": [],
   "source": [
    "pip install pyspark"
   ]
  },
  {
   "cell_type": "code",
   "execution_count": null,
   "metadata": {},
   "outputs": [],
   "source": [
    "pip install pandas"
   ]
  },
  {
   "attachments": {},
   "cell_type": "markdown",
   "metadata": {},
   "source": [
    "## Partie II : Utilisation de PySpark"
   ]
  },
  {
   "attachments": {},
   "cell_type": "markdown",
   "metadata": {},
   "source": [
    "### Utilisation de fichiers .txt\n",
    "\n",
    "On crée d'abord une configuration Spark et un contexte Spark."
   ]
  },
  {
   "cell_type": "code",
   "execution_count": 110,
   "metadata": {},
   "outputs": [],
   "source": [
    "from pyspark import SparkContext, SparkConf"
   ]
  },
  {
   "cell_type": "code",
   "execution_count": 111,
   "metadata": {},
   "outputs": [],
   "source": [
    "conf = SparkConf()\n",
    "# create Spark context with Spark configuration\n",
    "sc = SparkContext.getOrCreate(conf=conf)"
   ]
  },
  {
   "attachments": {},
   "cell_type": "markdown",
   "metadata": {},
   "source": [
    "Puis on teste Spark avec un map reduce sur le fichier test.txt.\n",
    "\n",
    "test.txt ayant pour contenu : *Je JE A; A ;*\n",
    "\n",
    "On veut ici tester si spark détecte d'abord les différents mots et si il est sensible aux minuscules/majuscules et aux ponctuations."
   ]
  },
  {
   "cell_type": "code",
   "execution_count": 112,
   "metadata": {},
   "outputs": [
    {
     "name": "stdout",
     "output_type": "stream",
     "text": [
      "[('JE', 1), (';', 1), ('Je', 1), ('A;', 1), ('A', 1)]\n"
     ]
    }
   ],
   "source": [
    "\n",
    " # read in text file and split each document into words\n",
    "words = sc.textFile(\"data/test.txt\").flatMap(lambda line: line.split(\" \"))\n",
    " # count the occurrence of each word\n",
    "wordCounts = words.map(lambda word: (word, 1)).reduceByKey(lambda a,b:a +b)\n",
    "\n",
    "print(wordCounts.collect())"
   ]
  },
  {
   "attachments": {},
   "cell_type": "markdown",
   "metadata": {},
   "source": [
    "Le map reduce de Spark considère un mot comme une suite de caractères attachées et est sensibles aux différence entre min/majuscules."
   ]
  },
  {
   "attachments": {},
   "cell_type": "markdown",
   "metadata": {},
   "source": [
    "### Utilisation de CSVs"
   ]
  },
  {
   "cell_type": "code",
   "execution_count": 113,
   "metadata": {},
   "outputs": [],
   "source": [
    "from pyspark.sql import SparkSession\n",
    "\n",
    "spSession = SparkSession.builder.appName(\"Ok\").getOrCreate()"
   ]
  },
  {
   "attachments": {},
   "cell_type": "markdown",
   "metadata": {},
   "source": [
    "On charge le csv, on afficher son schéma et puis on affiche les 10 premières entrées."
   ]
  },
  {
   "cell_type": "code",
   "execution_count": null,
   "metadata": {},
   "outputs": [],
   "source": [
    "df = spSession.read.csv(\"data/epl1.csv\", header=True, inferSchema=True, sep = ';')\n",
    "\n",
    "df.printSchema()\n",
    "\n",
    "df.show(10)"
   ]
  },
  {
   "attachments": {},
   "cell_type": "markdown",
   "metadata": {},
   "source": [
    "## Partie III : Utilisation de pandas\n",
    "\n",
    "On importe d'abord pandas et reduce()"
   ]
  },
  {
   "cell_type": "code",
   "execution_count": 114,
   "metadata": {},
   "outputs": [],
   "source": [
    "import pandas as pd\n",
    "from functools import reduce"
   ]
  },
  {
   "attachments": {},
   "cell_type": "markdown",
   "metadata": {},
   "source": [
    "On lis le csv"
   ]
  },
  {
   "cell_type": "code",
   "execution_count": null,
   "metadata": {},
   "outputs": [],
   "source": [
    "df = pd.read_csv(\"data/epl1.csv\", sep=\";\")\n",
    "\n",
    "print(df)"
   ]
  },
  {
   "attachments": {},
   "cell_type": "markdown",
   "metadata": {},
   "source": [
    "### Nombre moyen de spectateurs par match"
   ]
  },
  {
   "attachments": {},
   "cell_type": "markdown",
   "metadata": {},
   "source": [
    "**Méthode normal**"
   ]
  },
  {
   "cell_type": "code",
   "execution_count": 116,
   "metadata": {},
   "outputs": [
    {
     "data": {
      "text/plain": [
       "36451.836842105266"
      ]
     },
     "execution_count": 116,
     "metadata": {},
     "output_type": "execute_result"
    }
   ],
   "source": [
    "df['attendance'].mean()"
   ]
  },
  {
   "attachments": {},
   "cell_type": "markdown",
   "metadata": {},
   "source": [
    "**Map reduce**"
   ]
  },
  {
   "cell_type": "code",
   "execution_count": 117,
   "metadata": {},
   "outputs": [
    {
     "name": "stdout",
     "output_type": "stream",
     "text": [
      "36451.836842105266\n"
     ]
    }
   ],
   "source": [
    "def mapper(x):\n",
    "    return x\n",
    "\n",
    "def reducer(acc, x):\n",
    "    return acc + x\n",
    "\n",
    "total = reduce(reducer, map(mapper, df['attendance']))\n",
    "\n",
    "print(total/len(df))"
   ]
  },
  {
   "attachments": {},
   "cell_type": "markdown",
   "metadata": {},
   "source": [
    "On a le même résultat !"
   ]
  },
  {
   "attachments": {},
   "cell_type": "markdown",
   "metadata": {},
   "source": [
    "### Nombre moyen de buts par match"
   ]
  },
  {
   "attachments": {},
   "cell_type": "markdown",
   "metadata": {},
   "source": [
    "**Méthode classique**"
   ]
  },
  {
   "cell_type": "code",
   "execution_count": 118,
   "metadata": {},
   "outputs": [
    {
     "name": "stdout",
     "output_type": "stream",
     "text": [
      "Resultat : 1.35\n"
     ]
    }
   ],
   "source": [
    "sum = df['away_goals'].mean() + df['home_goals'].mean()\n",
    "\n",
    "print(\"Resultat : \" + str(sum/2))"
   ]
  },
  {
   "attachments": {},
   "cell_type": "markdown",
   "metadata": {},
   "source": [
    "**Map reduce**"
   ]
  },
  {
   "cell_type": "code",
   "execution_count": 119,
   "metadata": {},
   "outputs": [
    {
     "name": "stdout",
     "output_type": "stream",
     "text": [
      "Resultat : 1.35\n"
     ]
    }
   ],
   "source": [
    "sum = reduce(reducer, map(mapper, df['away_goals']))/len(df) + reduce(reducer, map(mapper, df['home_goals']))/len(df)\n",
    "\n",
    "print(\"Resultat : \" + str(sum/2))"
   ]
  },
  {
   "attachments": {},
   "cell_type": "markdown",
   "metadata": {},
   "source": [
    "### Nombre de buts pour chaque équipe"
   ]
  },
  {
   "attachments": {},
   "cell_type": "markdown",
   "metadata": {},
   "source": [
    "**Méthode classique**"
   ]
  },
  {
   "cell_type": "code",
   "execution_count": 120,
   "metadata": {},
   "outputs": [
    {
     "name": "stdout",
     "output_type": "stream",
     "text": [
      "away_team\n",
      "Arsenal           65\n",
      "Aston Villa       27\n",
      "Bournemouth       45\n",
      "Chelsea           59\n",
      "Crystal Palace    39\n",
      "Everton           59\n",
      "Leicester         68\n",
      "Liverpool         63\n",
      "Man City          71\n",
      "Man Utd           49\n",
      "Newcastle         44\n",
      "Norwich           39\n",
      "Southampton       59\n",
      "Spurs             69\n",
      "Stoke             41\n",
      "Sunderland        48\n",
      "Swansea           42\n",
      "Watford           40\n",
      "West Brom         34\n",
      "West Ham          65\n",
      "dtype: int64\n"
     ]
    }
   ],
   "source": [
    "print(df.groupby('away_team')['away_goals'].sum() + df.groupby('home_team')['home_goals'].sum())"
   ]
  },
  {
   "attachments": {},
   "cell_type": "markdown",
   "metadata": {},
   "source": [
    "**Map reduce**"
   ]
  },
  {
   "cell_type": "code",
   "execution_count": 121,
   "metadata": {},
   "outputs": [
    {
     "name": "stdout",
     "output_type": "stream",
     "text": [
      "                 0   1  total\n",
      "Bournemouth     22  23     45\n",
      "Aston Villa     13  14     27\n",
      "Leicester       33  35     68\n",
      "Norwich         13  26     39\n",
      "Spurs           34  35     69\n",
      "Crystal Palace  20  19     39\n",
      "West Ham        31  34     65\n",
      "Man City        24  47     71\n",
      "Sunderland      25  23     48\n",
      "Liverpool       30  33     63\n",
      "Chelsea         27  32     59\n",
      "Watford         20  20     40\n",
      "Everton         24  35     59\n",
      "Man Utd         22  27     49\n",
      "Arsenal         34  31     65\n",
      "Southampton     20  39     59\n",
      "Newcastle       12  32     44\n",
      "West Brom       14  20     34\n",
      "Stoke           19  22     41\n",
      "Swansea         22  20     42\n"
     ]
    }
   ],
   "source": [
    "import collections\n",
    "\n",
    "def mapperAway(row):\n",
    "    return (row['away_team'], row['away_goals'])\n",
    "\n",
    "def mapperHome(row):\n",
    "    return (row['home_team'], row['home_goals'])\n",
    "\n",
    "\n",
    "def reducer2(acc, x):\n",
    "    team, goals = x\n",
    "    acc[team] = acc.get(team, 0) + goals\n",
    "    return acc\n",
    "\n",
    "mp1 = reduce(reducer2, map(mapperAway, df.to_dict('records')), {})\n",
    "mp2 = reduce(reducer2, map(mapperHome, df.to_dict('records')), {})\n",
    "\n",
    "concatSeries = pd.concat([pd.Series(mp1), pd.Series(mp2)], axis=1)\n",
    "\n",
    "concatSeries['total'] = concatSeries[0]+concatSeries[1]\n",
    "\n",
    "print(concatSeries)"
   ]
  },
  {
   "cell_type": "code",
   "execution_count": null,
   "metadata": {},
   "outputs": [],
   "source": []
  }
 ],
 "metadata": {
  "kernelspec": {
   "display_name": "Python 3",
   "language": "python",
   "name": "python3"
  },
  "language_info": {
   "codemirror_mode": {
    "name": "ipython",
    "version": 3
   },
   "file_extension": ".py",
   "mimetype": "text/x-python",
   "name": "python",
   "nbconvert_exporter": "python",
   "pygments_lexer": "ipython3",
   "version": "3.10.10"
  },
  "orig_nbformat": 4
 },
 "nbformat": 4,
 "nbformat_minor": 2
}
